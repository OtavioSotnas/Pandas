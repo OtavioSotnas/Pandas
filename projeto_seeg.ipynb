{
 "cells": [
  {
   "cell_type": "code",
   "execution_count": 1,
   "metadata": {},
   "outputs": [],
   "source": [
    "import pandas as pd"
   ]
  },
  {
   "cell_type": "code",
   "execution_count": 7,
   "metadata": {},
   "outputs": [
    {
     "name": "stderr",
     "output_type": "stream",
     "text": [
      "c:\\Users\\Fabiane\\AppData\\Local\\Programs\\Python\\Python312\\Lib\\site-packages\\openpyxl\\worksheet\\_reader.py:329: UserWarning: Unknown extension is not supported and will be removed\n",
      "  warn(msg)\n"
     ]
    }
   ],
   "source": [
    "emissoes_gases = pd.read_excel(r'C:\\Users\\Fabiane\\Documents\\GitHub\\pandas\\base-de-dados\\1-SEEG10_GERAL-BR_UF_2022.10.27-FINAL-SITE.xlsx', sheet_name='GEE Estados')"
   ]
  },
  {
   "cell_type": "code",
   "execution_count": 10,
   "metadata": {},
   "outputs": [
    {
     "name": "stdout",
     "output_type": "stream",
     "text": [
      "<class 'pandas.core.frame.DataFrame'>\n",
      "RangeIndex: 103312 entries, 0 to 103311\n",
      "Data columns (total 63 columns):\n",
      " #   Column                      Non-Null Count   Dtype  \n",
      "---  ------                      --------------   -----  \n",
      " 0   Nível 1 - Setor             103312 non-null  object \n",
      " 1   Nível 2                     103312 non-null  object \n",
      " 2   Nível 3                     103253 non-null  object \n",
      " 3   Nível 4                     90920 non-null   object \n",
      " 4   Nível 5                     100788 non-null  object \n",
      " 5   Nível 6                     97691 non-null   object \n",
      " 6   Emissão / Remoção / Bunker  103312 non-null  object \n",
      " 7   Gás                         103312 non-null  object \n",
      " 8   Estado                      97374 non-null   object \n",
      " 9   Atividade Econômica         102076 non-null  object \n",
      " 10  Produto                     37413 non-null   object \n",
      " 11  1970                        103312 non-null  float64\n",
      " 12  1971                        103312 non-null  float64\n",
      " 13  1972                        103312 non-null  float64\n",
      " 14  1973                        103312 non-null  float64\n",
      " 15  1974                        103312 non-null  float64\n",
      " 16  1975                        103312 non-null  float64\n",
      " 17  1976                        103312 non-null  float64\n",
      " 18  1977                        103312 non-null  float64\n",
      " 19  1978                        103312 non-null  float64\n",
      " 20  1979                        103312 non-null  float64\n",
      " 21  1980                        103312 non-null  float64\n",
      " 22  1981                        103312 non-null  float64\n",
      " 23  1982                        103312 non-null  float64\n",
      " 24  1983                        103312 non-null  float64\n",
      " 25  1984                        103312 non-null  float64\n",
      " 26  1985                        103312 non-null  float64\n",
      " 27  1986                        103312 non-null  float64\n",
      " 28  1987                        103312 non-null  float64\n",
      " 29  1988                        103312 non-null  float64\n",
      " 30  1989                        103312 non-null  float64\n",
      " 31  1990                        103312 non-null  float64\n",
      " 32  1991                        103312 non-null  float64\n",
      " 33  1992                        103312 non-null  float64\n",
      " 34  1993                        103312 non-null  float64\n",
      " 35  1994                        103312 non-null  float64\n",
      " 36  1995                        103312 non-null  float64\n",
      " 37  1996                        103312 non-null  float64\n",
      " 38  1997                        103312 non-null  float64\n",
      " 39  1998                        103312 non-null  float64\n",
      " 40  1999                        103312 non-null  float64\n",
      " 41  2000                        103312 non-null  float64\n",
      " 42  2001                        103312 non-null  float64\n",
      " 43  2002                        103312 non-null  float64\n",
      " 44  2003                        103312 non-null  float64\n",
      " 45  2004                        103312 non-null  float64\n",
      " 46  2005                        103312 non-null  float64\n",
      " 47  2006                        103312 non-null  float64\n",
      " 48  2007                        103312 non-null  float64\n",
      " 49  2008                        103312 non-null  float64\n",
      " 50  2009                        103312 non-null  float64\n",
      " 51  2010                        103312 non-null  float64\n",
      " 52  2011                        103312 non-null  float64\n",
      " 53  2012                        103312 non-null  float64\n",
      " 54  2013                        103312 non-null  float64\n",
      " 55  2014                        103312 non-null  float64\n",
      " 56  2015                        103312 non-null  float64\n",
      " 57  2016                        103312 non-null  float64\n",
      " 58  2017                        103312 non-null  float64\n",
      " 59  2018                        103312 non-null  float64\n",
      " 60  2019                        103312 non-null  float64\n",
      " 61  2020                        103312 non-null  float64\n",
      " 62  2021                        103312 non-null  float64\n",
      "dtypes: float64(52), object(11)\n",
      "memory usage: 49.7+ MB\n"
     ]
    }
   ],
   "source": [
    "emissoes_gases.info()"
   ]
  },
  {
   "cell_type": "code",
   "execution_count": null,
   "metadata": {},
   "outputs": [],
   "source": []
  }
 ],
 "metadata": {
  "kernelspec": {
   "display_name": "Python 3",
   "language": "python",
   "name": "python3"
  },
  "language_info": {
   "codemirror_mode": {
    "name": "ipython",
    "version": 3
   },
   "file_extension": ".py",
   "mimetype": "text/x-python",
   "name": "python",
   "nbconvert_exporter": "python",
   "pygments_lexer": "ipython3",
   "version": "3.12.2"
  }
 },
 "nbformat": 4,
 "nbformat_minor": 2
}
